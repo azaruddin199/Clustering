{
 "cells": [
  {
   "cell_type": "markdown",
   "id": "9b147faa",
   "metadata": {},
   "source": [
    "# Clustering Analysis "
   ]
  },
  {
   "cell_type": "raw",
   "id": "a3dd346b",
   "metadata": {},
   "source": [
    "GIVEN Objective:\n",
    "\n",
    "The objective of this assignment is to introduce to various clustering algorithms, including K-Means, hierarchical, and DBSCAN, and provide hands-on experience in applying these techniques to a real-world dataset."
   ]
  },
  {
   "cell_type": "markdown",
   "id": "edf257c1",
   "metadata": {},
   "source": [
    "# 1.Data Preprocessing"
   ]
  },
  {
   "cell_type": "code",
   "execution_count": null,
   "id": "5153935c",
   "metadata": {},
   "outputs": [],
   "source": [
    "import pandas as pd\n",
    "from sklearn.preprocessing import StandardScaler\n",
    "from sklearn.impute import SimpleImputer\n",
    "from sklearn.ensemble import IsolationForest\n",
    "df = pd.read_csv(r\"C:\\Users\\G.S.AZARUDDIN\\Downloads\\EastWestAirlines.xlsx\")\n",
    "imputer = SimpleImputer(strategy='mean') \n",
    "df_imputed = pd.DataFrame(imputer.fit_transform(df), columns=df.columns)\n",
    "iso_forest = IsolationForest(contamination=0.01)\n",
    "outliers = iso_forest.fit_predict(df_imputed)\n",
    "df_clean = df_imputed[outliers == 1]\n",
    "scaler = StandardScaler()\n",
    "df_scaled = pd.DataFrame(scaler.fit_transform(df_clean), columns=df_clean.columns)"
   ]
  },
  {
   "cell_type": "markdown",
   "id": "45183a92",
   "metadata": {},
   "source": [
    "# 2. Implementing Clustering Algorithms"
   ]
  },
  {
   "cell_type": "code",
   "execution_count": null,
   "id": "375efa6f",
   "metadata": {},
   "outputs": [],
   "source": [
    "from sklearn.cluster import KMeans\n",
    "from sklearn.metrics import silhouette_score\n",
    "inertia = []\n",
    "K_range = range(1, 11)\n",
    "for K in K_range:\n",
    "    kmeans = KMeans(n_clusters=K, random_state=42)\n",
    "    kmeans.fit(df_scaled)\n",
    "    inertia.append(kmeans.inertia_)\n",
    "plt.figure(figsize=(8, 6))\n",
    "plt.plot(K_range, inertia, marker='o')\n",
    "plt.xlabel('Number of clusters')\n",
    "plt.ylabel('Inertia')\n",
    "plt.title('Elbow Method')\n",
    "plt.show()\n",
    "optimal_k = 3\n",
    "kmeans = KMeans(n_clusters=optimal_k, random_state=42)\n",
    "df_scaled['Cluster'] = kmeans.fit_predict(df_scaled)\n",
    "silhouette_avg = silhouette_score(df_scaled.drop('Cluster', axis=1), df_scaled['Cluster'])\n",
    "print(f'Silhouette Score for K-Means: {silhouette_avg}')\n"
   ]
  },
  {
   "cell_type": "markdown",
   "id": "ed719d1f",
   "metadata": {},
   "source": [
    "# b. DBSCAN  Clustering"
   ]
  },
  {
   "cell_type": "code",
   "execution_count": null,
   "id": "90503145",
   "metadata": {},
   "outputs": [],
   "source": [
    "from sklearn.cluster import DBSCAN\n",
    "dbscan = DBSCAN(eps=0.5, min_samples=5) \n",
    "df_scaled['Cluster'] = dbscan.fit_predict(df_scaled)\n",
    "silhouette_avg = silhouette_score(df_scaled.drop('Cluster', axis=1), df_scaled['Cluster'])\n",
    "print(f'Silhouette Score for DBSCAN: {silhouette_avg}')\n",
    "\n"
   ]
  },
  {
   "cell_type": "markdown",
   "id": "9e4a2f7f",
   "metadata": {},
   "source": [
    "# 3.Cluster Analysis and Interpretation"
   ]
  },
  {
   "cell_type": "code",
   "execution_count": null,
   "id": "89d61968",
   "metadata": {},
   "outputs": [],
   "source": [
    "print(\"K-Means Cluster Centers:\")\n",
    "print(kmeans.cluster_centers_)\n",
    "print(\"DBSCAN Cluster Counts:\")\n",
    "print(df_scaled['Cluster'].value_counts())\n"
   ]
  },
  {
   "cell_type": "markdown",
   "id": "27aac71f",
   "metadata": {},
   "source": [
    "# 4. Visualization"
   ]
  },
  {
   "cell_type": "markdown",
   "id": "cfc2cd25",
   "metadata": {},
   "source": [
    "# K-Means"
   ]
  },
  {
   "cell_type": "code",
   "execution_count": null,
   "id": "53f27477",
   "metadata": {},
   "outputs": [],
   "source": [
    "plt.figure(figsize=(10, 8))\n",
    "sns.scatterplot(data=df_scaled, x=df_scaled.columns[0], y=df_scaled.columns[1], hue='Cluster', palette='viridis')\n",
    "plt.title('K-Means Clustering')\n",
    "plt.show()"
   ]
  },
  {
   "cell_type": "markdown",
   "id": "ffa557d9",
   "metadata": {},
   "source": [
    "# Hierarchical Clustering"
   ]
  },
  {
   "cell_type": "code",
   "execution_count": null,
   "id": "229370b0",
   "metadata": {},
   "outputs": [],
   "source": [
    "plt.figure(figsize=(10, 8))\n",
    "sns.scatterplot(data=df_scaled, x=df_scaled.columns[0], y=df_scaled.columns[1], hue='Cluster', palette='viridis')\n",
    "plt.title('Hierarchical Clustering')\n",
    "plt.show()"
   ]
  },
  {
   "cell_type": "markdown",
   "id": "b7ce4330",
   "metadata": {},
   "source": [
    "# DBSCAN"
   ]
  },
  {
   "cell_type": "code",
   "execution_count": null,
   "id": "b8786a5e",
   "metadata": {},
   "outputs": [],
   "source": [
    "plt.figure(figsize=(10, 8))\n",
    "sns.scatterplot(data=df_scaled, x=df_scaled.columns[0], y=df_scaled.columns[1], hue='Cluster', palette='viridis')\n",
    "plt.title('DBSCAN Clustering')\n",
    "plt.show()"
   ]
  },
  {
   "cell_type": "markdown",
   "id": "f42fe588",
   "metadata": {},
   "source": [
    "# 5.Evaluation and Performance Metrics"
   ]
  },
  {
   "cell_type": "code",
   "execution_count": null,
   "id": "ee99ce27",
   "metadata": {},
   "outputs": [],
   "source": [
    "from sklearn.metrics import silhouette_score\n",
    "# K-Means\n",
    "silhouette_kmeans = silhouette_score(df_scaled.drop('Cluster', axis=1), df_scaled['Cluster'])\n",
    "print(f'Silhouette Score for K-Means: {silhouette_kmeans}')\n",
    "# DBSCAN\n",
    "silhouette_dbscan = silhouette_score(df_scaled.drop('Cluster', axis=1), df_scaled['Cluster'])\n",
    "print(f'Silhouette Score for DBSCAN: {silhouette_dbscan}')"
   ]
  }
 ],
 "metadata": {
  "kernelspec": {
   "display_name": "Python 3 (ipykernel)",
   "language": "python",
   "name": "python3"
  },
  "language_info": {
   "codemirror_mode": {
    "name": "ipython",
    "version": 3
   },
   "file_extension": ".py",
   "mimetype": "text/x-python",
   "name": "python",
   "nbconvert_exporter": "python",
   "pygments_lexer": "ipython3",
   "version": "3.9.13"
  }
 },
 "nbformat": 4,
 "nbformat_minor": 5
}
